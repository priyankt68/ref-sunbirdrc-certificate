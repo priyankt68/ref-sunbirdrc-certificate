{
 "cells": [
  {
   "cell_type": "markdown",
   "id": "081dd572-3b6d-44f0-b099-ab3ff66d87d0",
   "metadata": {},
   "source": [
    "### Public Private Key generation"
   ]
  },
  {
   "cell_type": "code",
   "execution_count": 1,
   "id": "9b231d3e-4e6b-46d6-be30-c64c2c4f68c5",
   "metadata": {},
   "outputs": [
    {
     "name": "stdout",
     "output_type": "stream",
     "text": [
      "Keys generated and saved.\n"
     ]
    }
   ],
   "source": [
    "from cryptography.hazmat.backends import default_backend\n",
    "from cryptography.hazmat.primitives import serialization\n",
    "from cryptography.hazmat.primitives.asymmetric import rsa\n",
    "\n",
    "# Generate a new RSA key pair\n",
    "private_key = rsa.generate_private_key(\n",
    "    public_exponent=65537,  # Common choice for RSA\n",
    "    key_size=2048,  # Key size in bits\n",
    "    backend=default_backend()\n",
    ")\n",
    "\n",
    "# Serialize and save the private key to a file\n",
    "with open(\"private_key.pem\", \"wb\") as private_key_file:\n",
    "    private_key_pem = private_key.private_bytes(\n",
    "        encoding=serialization.Encoding.PEM,\n",
    "        format=serialization.PrivateFormat.PKCS8,\n",
    "        encryption_algorithm=serialization.NoEncryption()\n",
    "    )\n",
    "    private_key_file.write(private_key_pem)\n",
    "\n",
    "# Extract and serialize the public key\n",
    "public_key = private_key.public_key()\n",
    "with open(\"public_key.pem\", \"wb\") as public_key_file:\n",
    "    public_key_pem = public_key.public_bytes(\n",
    "        encoding=serialization.Encoding.PEM,\n",
    "        format=serialization.PublicFormat.SubjectPublicKeyInfo\n",
    "    )\n",
    "    public_key_file.write(public_key_pem)\n",
    "\n",
    "print(\"Keys generated and saved.\")\n"
   ]
  },
  {
   "cell_type": "markdown",
   "id": "e0ea2681-cf08-465b-a9aa-cf51eb0d7df8",
   "metadata": {},
   "source": [
    "### Sign a verifiable credential using a private key. "
   ]
  },
  {
   "cell_type": "code",
   "execution_count": 14,
   "id": "ce7f29ba-56de-404b-ae22-4dea7c489255",
   "metadata": {},
   "outputs": [
    {
     "name": "stdout",
     "output_type": "stream",
     "text": [
      "{\n",
      "    \"credential\": {\n",
      "        \"@context\": [\n",
      "            \"https://www.w3.org/2018/credentials/v1\"\n",
      "        ],\n",
      "        \"type\": [\n",
      "            \"VerifiableCredential\"\n",
      "        ],\n",
      "        \"issuer\": \"did:example:123456789abcdefghi\",\n",
      "        \"issuanceDate\": \"2023-08-28T10:54:48.360814\",\n",
      "        \"credentialSubject\": {\n",
      "            \"id\": \"did:example:123456789abcdefg\",\n",
      "            \"degree\": {\n",
      "                \"type\": \"BachelorDegree\",\n",
      "                \"name\": \"Computer Science\",\n",
      "                \"university\": \"Alice's University\",\n",
      "                \"graduationDate\": \"2023-06-15\"\n",
      "            }\n",
      "        }\n",
      "    },\n",
      "    \"proof\": {\n",
      "        \"type\": \"RsaSignature2018\",\n",
      "        \"created\": \"2023-08-28T10:54:48.409242\",\n",
      "        \"proofPurpose\": \"assertionMethod\",\n",
      "        \"verificationMethod\": \"did:example:123456789abcdefghi#keys-1\",\n",
      "        \"signatureValue\": \"oh76pRMS+FpDwrWNrwm0tlHqiYbeiwTURzMyNxinmKvXUu5h8ru+XxIE4Fs5zPt/6t4hFJOLdDjepRisXNYzGpzH8RrcGkcNR8kWmWwSOc3pFLvGUxqLGlc1dMpVMDOl7G/Er3XqiwY2lBav/+t1nSfvFjEDO+2e9TAfbI2W2VkfmJTDjvEan2+RJeEhUFBf7Ga4GlWC+VrKEyo8jNw2vlvkudj7KyxYdHRDfwsSa3865Oh/RRpfNmt3P2HU/ctIYfzoxbgj9svMs/UjTS0hcWBGjijMwMuF2T9qewJCAVpcAsEI0yrVWzD8G3kmUC1QPTpommXo7rxc5KLmTFnXJg==\"\n",
      "    }\n",
      "}\n"
     ]
    }
   ],
   "source": [
    "import json\n",
    "import hashlib\n",
    "import base64\n",
    "from datetime import datetime\n",
    "from cryptography.hazmat.backends import default_backend\n",
    "from cryptography.hazmat.primitives.asymmetric import rsa\n",
    "from cryptography.hazmat.primitives import serialization\n",
    "from cryptography.hazmat.primitives.asymmetric import padding\n",
    "from cryptography.hazmat.primitives import hashes\n",
    "\n",
    "# Example verifiable credential data\n",
    "credential_data = { \"credential\": {\n",
    "    \"@context\": [\"https://www.w3.org/2018/credentials/v1\"],\n",
    "    \"type\": [\"VerifiableCredential\"],\n",
    "    \"issuer\": \"did:example:123456789abcdefghi\",\n",
    "    \"issuanceDate\": datetime.utcnow().isoformat(),\n",
    "    \"credentialSubject\": {\n",
    "        \"id\": \"did:example:123456789abcdefg\",\n",
    "        \"degree\": {\n",
    "            \"type\": \"BachelorDegree\",\n",
    "            \"name\": \"Computer Science\",\n",
    "            \"university\": \"Alice's University\",\n",
    "            \"graduationDate\": \"2023-06-15\"\n",
    "        }\n",
    "    }}\n",
    "}    \n",
    "\n",
    "# Load your private key (you should manage this securely)\n",
    "with open(\"private_key.pem\", \"rb\") as key_file:\n",
    "    private_key = serialization.load_pem_private_key(\n",
    "        key_file.read(),\n",
    "        password=None,\n",
    "        backend=default_backend()\n",
    "    )\n",
    "\n",
    "# Convert the credential data to JSON string\n",
    "credential_json = json.dumps(credential_data[\"credential\"], separators=(',', ':'), sort_keys=True)\n",
    "\n",
    "# Calculate the SHA-256 hash of the credential JSON\n",
    "hash_algorithm = hashes.SHA256()\n",
    "hasher = hashlib.sha256()\n",
    "hasher.update(credential_json.encode('utf-8'))\n",
    "hash_value = hasher.digest()\n",
    "\n",
    "# Sign the hash value using the private key\n",
    "signature = private_key.sign(\n",
    "    hash_value,\n",
    "    padding.PKCS1v15(),\n",
    "    hashes.SHA256()\n",
    ")\n",
    "\n",
    "# Convert the signature to base64\n",
    "base64_signature = base64.b64encode(signature).decode('utf-8')\n",
    "\n",
    "# Add the signature to the credential data\n",
    "credential_data[\"proof\"] = {\n",
    "    \"type\": \"RsaSignature2018\",\n",
    "    \"created\": datetime.utcnow().isoformat(),\n",
    "    \"proofPurpose\": \"assertionMethod\",\n",
    "    \"verificationMethod\": \"did:example:123456789abcdefghi#keys-1\",\n",
    "    \"signatureValue\": base64_signature\n",
    "}\n",
    "\n",
    "# Print the signed credential JSON\n",
    "print(json.dumps(credential_data, indent=4))\n"
   ]
  },
  {
   "cell_type": "markdown",
   "id": "76b28a54-cd2c-4b65-8e65-c22ca1b3fcdb",
   "metadata": {},
   "source": [
    "### Encode the JSON-LD representation of the signed credential into a QR code."
   ]
  },
  {
   "cell_type": "code",
   "execution_count": 15,
   "id": "24206f32-bc28-413d-a424-168ccfc6b728",
   "metadata": {},
   "outputs": [],
   "source": [
    "import json\n",
    "import qrcode\n",
    "\n",
    "# Assuming credential_data is the JSON-LD representation of the signed credential\n",
    "\n",
    "# Convert the credential data to JSON string\n",
    "credential_json = json.dumps(credential_data)\n",
    "\n",
    "# Create a QR code instance\n",
    "qr = qrcode.QRCode(\n",
    "    version=1,\n",
    "    error_correction=qrcode.constants.ERROR_CORRECT_L,\n",
    "    box_size=10,\n",
    "    border=4,\n",
    ")\n",
    "\n",
    "# Add the JSON data to the QR code\n",
    "qr.add_data(credential_json)\n",
    "qr.make(fit=True)\n",
    "\n",
    "# Create an image from the QR code\n",
    "qr_image = qr.make_image(fill_color=\"black\", back_color=\"white\")\n",
    "\n",
    "# Save the QR code image\n",
    "qr_image.save(\"vc_qr_code.png\")\n"
   ]
  },
  {
   "cell_type": "markdown",
   "id": "bf376417-a91a-4d87-803b-d530b3e7e3d9",
   "metadata": {},
   "source": [
    "### Verify a signed json using same public key"
   ]
  },
  {
   "cell_type": "code",
   "execution_count": 16,
   "id": "b3381968-0208-46bd-a0b6-8896250a94df",
   "metadata": {},
   "outputs": [
    {
     "data": {
      "text/plain": [
       "{'credential': {'@context': ['https://www.w3.org/2018/credentials/v1'],\n",
       "  'type': ['VerifiableCredential'],\n",
       "  'issuer': 'did:example:123456789abcdefghi',\n",
       "  'issuanceDate': '2023-08-28T10:54:48.360814',\n",
       "  'credentialSubject': {'id': 'did:example:123456789abcdefg',\n",
       "   'degree': {'type': 'BachelorDegree',\n",
       "    'name': 'Computer Science',\n",
       "    'university': \"Alice's University\",\n",
       "    'graduationDate': '2023-06-15'}}},\n",
       " 'proof': {'type': 'RsaSignature2018',\n",
       "  'created': '2023-08-28T10:54:48.409242',\n",
       "  'proofPurpose': 'assertionMethod',\n",
       "  'verificationMethod': 'did:example:123456789abcdefghi#keys-1',\n",
       "  'signatureValue': 'oh76pRMS+FpDwrWNrwm0tlHqiYbeiwTURzMyNxinmKvXUu5h8ru+XxIE4Fs5zPt/6t4hFJOLdDjepRisXNYzGpzH8RrcGkcNR8kWmWwSOc3pFLvGUxqLGlc1dMpVMDOl7G/Er3XqiwY2lBav/+t1nSfvFjEDO+2e9TAfbI2W2VkfmJTDjvEan2+RJeEhUFBf7Ga4GlWC+VrKEyo8jNw2vlvkudj7KyxYdHRDfwsSa3865Oh/RRpfNmt3P2HU/ctIYfzoxbgj9svMs/UjTS0hcWBGjijMwMuF2T9qewJCAVpcAsEI0yrVWzD8G3kmUC1QPTpommXo7rxc5KLmTFnXJg=='}}"
      ]
     },
     "execution_count": 16,
     "metadata": {},
     "output_type": "execute_result"
    }
   ],
   "source": [
    "credential_data"
   ]
  },
  {
   "cell_type": "code",
   "execution_count": 18,
   "id": "b64b973a-1dc9-474f-a53d-9636cf928995",
   "metadata": {
    "scrolled": true
   },
   "outputs": [
    {
     "name": "stdout",
     "output_type": "stream",
     "text": [
      "Verification successful: VC is authentic.\n"
     ]
    }
   ],
   "source": [
    "import json\n",
    "import base64\n",
    "import hashlib\n",
    "from cryptography.hazmat.backends import default_backend\n",
    "from cryptography.hazmat.primitives.asymmetric import rsa\n",
    "from cryptography.hazmat.primitives import serialization\n",
    "from cryptography.hazmat.primitives.asymmetric import padding\n",
    "from cryptography.hazmat.primitives import hashes\n",
    "\n",
    "signed_vc_data = credential_data\n",
    "\n",
    "# Extract necessary data from the signed VC\n",
    "signature_value = base64.b64decode(signed_vc_data[\"proof\"][\"signatureValue\"])\n",
    "\n",
    "# Load the public key from the public key PEM file\n",
    "with open(\"public_key.pem\", \"rb\") as public_key_file:\n",
    "    public_key = serialization.load_pem_public_key(\n",
    "        public_key_file.read(),\n",
    "        backend=default_backend()\n",
    "    )\n",
    "\n",
    "# Extract the credential JSON for hashing\n",
    "credential_json = json.dumps(signed_vc_data[\"credential\"], separators=(',', ':'), sort_keys=True)\n",
    "\n",
    "# Calculate the SHA-256 hash of the credential JSON\n",
    "hash_algorithm = hashes.SHA256()\n",
    "hasher = hashlib.sha256()\n",
    "hasher.update(credential_json.encode('utf-8'))\n",
    "hash_value = hasher.digest()\n",
    "\n",
    "credential_json\n",
    "# Verify the signature\n",
    "try:\n",
    "    public_key.verify(\n",
    "        signature_value,\n",
    "        hash_value,\n",
    "        padding.PKCS1v15(),\n",
    "        hash_algorithm\n",
    "    )\n",
    "    print(\"Verification successful: VC is authentic.\")\n",
    "except Exception as e:\n",
    "    print(\"Verification failed:\", e.message)\n"
   ]
  },
  {
   "cell_type": "markdown",
   "id": "64c56f3d-8cea-4a54-ab3f-2a8eb77487d6",
   "metadata": {},
   "source": [
    "### Sample example of public/private key signing"
   ]
  },
  {
   "cell_type": "code",
   "execution_count": 13,
   "id": "21ab5098-5a86-451d-a57f-75f04b3b2f13",
   "metadata": {},
   "outputs": [
    {
     "name": "stdout",
     "output_type": "stream",
     "text": [
      "Verification successful: Signature is valid.\n"
     ]
    }
   ],
   "source": [
    "import base64\n",
    "import hashlib\n",
    "from cryptography.hazmat.backends import default_backend\n",
    "from cryptography.hazmat.primitives.asymmetric import rsa\n",
    "from cryptography.hazmat.primitives.serialization import Encoding, PublicFormat\n",
    "from cryptography.hazmat.primitives.asymmetric import padding\n",
    "from cryptography.hazmat.primitives import hashes\n",
    "\n",
    "# Generate a new RSA key pair (for demonstration purposes)\n",
    "private_key = rsa.generate_private_key(\n",
    "    public_exponent=65537,\n",
    "    key_size=2048,\n",
    "    backend=default_backend()\n",
    ")\n",
    "\n",
    "# Serialize and save the private key (for demonstration purposes)\n",
    "with open(\"private_key.pem\", \"wb\") as private_key_file:\n",
    "    private_key_pem = private_key.private_bytes(\n",
    "        encoding=serialization.Encoding.PEM,\n",
    "        format=serialization.PrivateFormat.TraditionalOpenSSL,\n",
    "        encryption_algorithm=serialization.NoEncryption()\n",
    "    )\n",
    "    private_key_file.write(private_key_pem)\n",
    "\n",
    "# Extract the public key from the private key\n",
    "public_key = private_key.public_key()\n",
    "\n",
    "# Serialize and save the public key (for demonstration purposes)\n",
    "with open(\"public_key.pem\", \"wb\") as public_key_file:\n",
    "    public_key_pem = public_key.public_bytes(\n",
    "        encoding=serialization.Encoding.PEM,\n",
    "        format=serialization.PublicFormat.SubjectPublicKeyInfo\n",
    "    )\n",
    "    public_key_file.write(public_key_pem)\n",
    "\n",
    "# Message to be signed and verified\n",
    "message = b\"This is a test message.\"\n",
    "\n",
    "# Sign the message using the private key\n",
    "signature = private_key.sign(\n",
    "    message,\n",
    "    padding.PKCS1v15(),\n",
    "    hashes.SHA256()\n",
    ")\n",
    "\n",
    "# Verify the signature using the public key\n",
    "try:\n",
    "    public_key.verify(\n",
    "        signature,\n",
    "        message,\n",
    "        padding.PKCS1v15(),\n",
    "        hashes.SHA256()\n",
    "    )\n",
    "    print(\"Verification successful: Signature is valid.\")\n",
    "except Exception as e:\n",
    "    print(\"Verification failed:\", e)\n"
   ]
  }
 ],
 "metadata": {
  "kernelspec": {
   "display_name": "Python 3 (ipykernel)",
   "language": "python",
   "name": "python3"
  },
  "language_info": {
   "codemirror_mode": {
    "name": "ipython",
    "version": 3
   },
   "file_extension": ".py",
   "mimetype": "text/x-python",
   "name": "python",
   "nbconvert_exporter": "python",
   "pygments_lexer": "ipython3",
   "version": "3.11.3"
  }
 },
 "nbformat": 4,
 "nbformat_minor": 5
}
